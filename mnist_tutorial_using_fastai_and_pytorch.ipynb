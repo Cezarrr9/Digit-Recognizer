{
  "metadata": {
    "kernelspec": {
      "display_name": "Python 3",
      "name": "python3"
    },
    "language_info": {
      "pygments_lexer": "ipython3",
      "nbconvert_exporter": "python",
      "version": "3.6.4",
      "file_extension": ".py",
      "codemirror_mode": {
        "name": "ipython",
        "version": 3
      },
      "name": "python",
      "mimetype": "text/x-python"
    },
    "colab": {
      "provenance": [],
      "include_colab_link": true
    }
  },
  "nbformat_minor": 0,
  "nbformat": 4,
  "cells": [
    {
      "cell_type": "markdown",
      "metadata": {
        "id": "view-in-github",
        "colab_type": "text"
      },
      "source": [
        "<a href=\"https://colab.research.google.com/github/Cezarrr9/Digit-Recognizer/blob/main/mnist_tutorial_using_fastai_and_pytorch.ipynb\" target=\"_parent\"><img src=\"https://colab.research.google.com/assets/colab-badge.svg\" alt=\"Open In Colab\"/></a>"
      ]
    },
    {
      "cell_type": "markdown",
      "source": [
        "This version of code is meant to be run outside of kaggle. However, you can find the Kaggle version of the code here: https://www.kaggle.com/code/cezarr/mnist-tutorial-using-fastai-and-pytorch"
      ],
      "metadata": {
        "id": "lWB1gW7XSm_V"
      }
    },
    {
      "cell_type": "markdown",
      "source": [
        "# Get the data"
      ],
      "metadata": {
        "id": "-FFPhelOXi0H"
      }
    },
    {
      "cell_type": "markdown",
      "source": [
        "The simplest way to access Kaggle datasets is through the Kaggle API. This can be installed using pip by running the following cell:"
      ],
      "metadata": {
        "id": "Fp9BPZqNXYd1"
      }
    },
    {
      "cell_type": "code",
      "source": [
        "!pip install kaggle"
      ],
      "metadata": {
        "id": "zpGRDwcMUCJJ"
      },
      "execution_count": null,
      "outputs": []
    },
    {
      "cell_type": "markdown",
      "source": [
        "Then, in order to use Kaggle API, we need an API key. You can find this by clicking on your profile picture on Kaggle → Account → Create New Token. A json file will be saved in your PC. You need to access it, copy its contents and then paste them in the following cell (between the quotes):"
      ],
      "metadata": {
        "id": "ygoJMr2-UF6d"
      }
    },
    {
      "cell_type": "code",
      "source": [
        "# this needs to be run just once\n",
        "creds = 'insert_here'"
      ],
      "metadata": {
        "id": "VY6yUK_pO05N"
      },
      "execution_count": 19,
      "outputs": []
    },
    {
      "cell_type": "markdown",
      "source": [
        "You can run the following cells that will download the datasets to the specified path and then extract them:"
      ],
      "metadata": {
        "id": "juAkBzlMVJJ-"
      }
    },
    {
      "cell_type": "code",
      "source": [
        "from pathlib import Path\n",
        "\n",
        "cred_path = Path('~/.kaggle/kaggle.json').expanduser()\n",
        "if not cred_path.exists():\n",
        "    cred_path.parent.mkdir(exist_ok=True)\n",
        "    cred_path.write_text(creds)\n",
        "    cred_path.chmod(0o600)"
      ],
      "metadata": {
        "id": "5yw7-tjcPYjq"
      },
      "execution_count": 20,
      "outputs": []
    },
    {
      "cell_type": "code",
      "source": [
        "path = Path('digit-recognizer')"
      ],
      "metadata": {
        "id": "_sqJCzOhPok3"
      },
      "execution_count": 21,
      "outputs": []
    },
    {
      "cell_type": "code",
      "source": [
        "if not iskaggle and not path.exists():\n",
        "    import zipfile,kaggle\n",
        "    kaggle.api.competition_download_cli(str(path))\n",
        "    zipfile.ZipFile(f'{path}.zip').extractall(path)"
      ],
      "metadata": {
        "colab": {
          "base_uri": "https://localhost:8080/"
        },
        "id": "cogzsc4APx1j",
        "outputId": "069620b6-7185-411c-aa45-59021d180d01"
      },
      "execution_count": 22,
      "outputs": [
        {
          "output_type": "stream",
          "name": "stdout",
          "text": [
            "Downloading digit-recognizer.zip to /content\n"
          ]
        },
        {
          "output_type": "stream",
          "name": "stderr",
          "text": [
            "100%|██████████| 15.3M/15.3M [00:00<00:00, 22.6MB/s]\n"
          ]
        },
        {
          "output_type": "stream",
          "name": "stdout",
          "text": [
            "\n"
          ]
        }
      ]
    },
    {
      "cell_type": "markdown",
      "source": [
        "We import some libraries:"
      ],
      "metadata": {
        "id": "jH2Df0F4FBwU"
      }
    },
    {
      "cell_type": "code",
      "source": [
        "import fastai\n",
        "from fastai.vision.all import *\n",
        "import torch\n",
        "import pandas as pd\n",
        "import numpy as np"
      ],
      "metadata": {
        "execution": {
          "iopub.status.busy": "2023-08-25T12:02:30.243579Z",
          "iopub.execute_input": "2023-08-25T12:02:30.244022Z",
          "iopub.status.idle": "2023-08-25T12:02:36.897504Z",
          "shell.execute_reply.started": "2023-08-25T12:02:30.243987Z",
          "shell.execute_reply": "2023-08-25T12:02:36.896014Z"
        },
        "trusted": true,
        "id": "DF1gZFeFFBwU"
      },
      "execution_count": 23,
      "outputs": []
    },
    {
      "cell_type": "code",
      "source": [
        "# Get the training data\n",
        "train_data = pd.read_csv(path/'train.csv')\n",
        "\n",
        "# Get the test data\n",
        "test_data = pd.read_csv(path/'test.csv')"
      ],
      "metadata": {
        "execution": {
          "iopub.status.busy": "2023-08-25T12:02:36.899910Z",
          "iopub.execute_input": "2023-08-25T12:02:36.900359Z",
          "iopub.status.idle": "2023-08-25T12:02:44.426886Z",
          "shell.execute_reply.started": "2023-08-25T12:02:36.900324Z",
          "shell.execute_reply": "2023-08-25T12:02:44.425500Z"
        },
        "trusted": true,
        "id": "rfiDwrL_FBwU"
      },
      "execution_count": 25,
      "outputs": []
    },
    {
      "cell_type": "markdown",
      "source": [
        "# Data Processing"
      ],
      "metadata": {
        "id": "qSHunZPqFBwU"
      }
    },
    {
      "cell_type": "markdown",
      "source": [
        "Create two paths for accessing the training and test data:"
      ],
      "metadata": {
        "id": "mEscSnv0FBwV"
      }
    },
    {
      "cell_type": "code",
      "source": [
        "TRAIN = Path(\"../train\")\n",
        "TEST = Path(\"../test\")"
      ],
      "metadata": {
        "execution": {
          "iopub.status.busy": "2023-08-25T12:02:44.428849Z",
          "iopub.execute_input": "2023-08-25T12:02:44.429838Z",
          "iopub.status.idle": "2023-08-25T12:02:44.437827Z",
          "shell.execute_reply.started": "2023-08-25T12:02:44.429764Z",
          "shell.execute_reply": "2023-08-25T12:02:44.435615Z"
        },
        "trusted": true,
        "id": "7o7xA4jdFBwV"
      },
      "execution_count": 26,
      "outputs": []
    },
    {
      "cell_type": "markdown",
      "source": [
        "We create 10 directories that represent every class that an image can be assigned to (the digits from 0 to 9):"
      ],
      "metadata": {
        "id": "qgQj_88RFBwV"
      }
    },
    {
      "cell_type": "code",
      "source": [
        "# 'makedirs' creates a directory recursively\n",
        "for digit in range(10):\n",
        "    os.makedirs(TRAIN/str(digit))"
      ],
      "metadata": {
        "execution": {
          "iopub.status.busy": "2023-08-25T12:02:44.442235Z",
          "iopub.execute_input": "2023-08-25T12:02:44.442816Z",
          "iopub.status.idle": "2023-08-25T12:02:44.464456Z",
          "shell.execute_reply.started": "2023-08-25T12:02:44.442763Z",
          "shell.execute_reply": "2023-08-25T12:02:44.458652Z"
        },
        "trusted": true,
        "id": "S42O-MQhFBwW"
      },
      "execution_count": 27,
      "outputs": []
    },
    {
      "cell_type": "code",
      "source": [
        "# Here we can see the name of each director\n",
        "sorted(os.listdir(TRAIN))"
      ],
      "metadata": {
        "execution": {
          "iopub.status.busy": "2023-08-25T12:02:44.466226Z",
          "iopub.execute_input": "2023-08-25T12:02:44.466670Z",
          "iopub.status.idle": "2023-08-25T12:02:44.486709Z",
          "shell.execute_reply.started": "2023-08-25T12:02:44.466635Z",
          "shell.execute_reply": "2023-08-25T12:02:44.484877Z"
        },
        "trusted": true,
        "colab": {
          "base_uri": "https://localhost:8080/"
        },
        "id": "GUfZffvOFBwW",
        "outputId": "263a6972-aad5-44a8-e702-a03a47fef279"
      },
      "execution_count": 28,
      "outputs": [
        {
          "output_type": "execute_result",
          "data": {
            "text/plain": [
              "['0', '1', '2', '3', '4', '5', '6', '7', '8', '9']"
            ]
          },
          "metadata": {},
          "execution_count": 28
        }
      ]
    },
    {
      "cell_type": "code",
      "source": [
        "# 'makedirs' also creates all intermediate-level directories needed to contain the leaf directory\n",
        "os.makedirs(TEST)"
      ],
      "metadata": {
        "execution": {
          "iopub.status.busy": "2023-08-25T12:02:44.489716Z",
          "iopub.execute_input": "2023-08-25T12:02:44.492181Z",
          "iopub.status.idle": "2023-08-25T12:02:44.501773Z",
          "shell.execute_reply.started": "2023-08-25T12:02:44.492121Z",
          "shell.execute_reply": "2023-08-25T12:02:44.500626Z"
        },
        "trusted": true,
        "id": "LZE0hrN-FBwW"
      },
      "execution_count": 29,
      "outputs": []
    },
    {
      "cell_type": "markdown",
      "source": [
        "Here we create a function that helps us save digits as images not just as arrays:"
      ],
      "metadata": {
        "id": "KgWDGqtfFBwX"
      }
    },
    {
      "cell_type": "code",
      "source": [
        "# PIL = Python Imaging Library\n",
        "from PIL import Image\n",
        "\n",
        "def save_digit(path, digit):\n",
        "    digit = digit.reshape(28, 28) # 'reshape' changes the shape of an array\n",
        "    digit = digit.astype(np.uint8) # 'astype' changes the data type of the numbers inside an array\n",
        "    img = Image.fromarray(digit) # 'fromarray' creates an image object from a given array\n",
        "    img.save(path) # save the image into the specified directory"
      ],
      "metadata": {
        "execution": {
          "iopub.status.busy": "2023-08-25T12:02:44.502999Z",
          "iopub.execute_input": "2023-08-25T12:02:44.503493Z",
          "iopub.status.idle": "2023-08-25T12:02:44.523873Z",
          "shell.execute_reply.started": "2023-08-25T12:02:44.503447Z",
          "shell.execute_reply": "2023-08-25T12:02:44.521513Z"
        },
        "trusted": true,
        "id": "2UhzSiOfFBwX"
      },
      "execution_count": 30,
      "outputs": []
    },
    {
      "cell_type": "markdown",
      "source": [
        "Now we want to put the training images (in jpg format) in the director named after their label:"
      ],
      "metadata": {
        "id": "joTXkjV7FBwX"
      }
    },
    {
      "cell_type": "code",
      "source": [
        "for index, row in train_data.iterrows():\n",
        "    label, digit = row[0], row[1:]\n",
        "\n",
        "    director = TRAIN / str(label)\n",
        "    fname = f\"{index}.jpg\"\n",
        "    path = director / fname\n",
        "\n",
        "    digit = digit.values\n",
        "\n",
        "    save_digit(path, digit)"
      ],
      "metadata": {
        "execution": {
          "iopub.status.busy": "2023-08-25T12:02:44.526412Z",
          "iopub.execute_input": "2023-08-25T12:02:44.527044Z",
          "iopub.status.idle": "2023-08-25T12:03:02.934231Z",
          "shell.execute_reply.started": "2023-08-25T12:02:44.526972Z",
          "shell.execute_reply": "2023-08-25T12:03:02.933280Z"
        },
        "trusted": true,
        "id": "5MDGOdWiFBwX"
      },
      "execution_count": 31,
      "outputs": []
    },
    {
      "cell_type": "markdown",
      "source": [
        "The test images are put in the TEST directory in jpg format:"
      ],
      "metadata": {
        "id": "9TdYWpHBFBwX"
      }
    },
    {
      "cell_type": "code",
      "source": [
        "for index, digit in test_data.iterrows():\n",
        "    director = TEST\n",
        "    fname = f\"{index}.jpg\"\n",
        "    path = director / fname\n",
        "\n",
        "    digit = digit.values\n",
        "\n",
        "    save_digit(path, digit)"
      ],
      "metadata": {
        "execution": {
          "iopub.status.busy": "2023-08-25T12:03:02.935584Z",
          "iopub.execute_input": "2023-08-25T12:03:02.936716Z",
          "iopub.status.idle": "2023-08-25T12:03:12.572600Z",
          "shell.execute_reply.started": "2023-08-25T12:03:02.936674Z",
          "shell.execute_reply": "2023-08-25T12:03:12.571391Z"
        },
        "trusted": true,
        "id": "E-9-oJt9FBwX"
      },
      "execution_count": 32,
      "outputs": []
    },
    {
      "cell_type": "markdown",
      "source": [
        "Now, we want to construct a DataBlock. In order to train a neural network in FastAI, the data needs to be stored in DataBlock. We use just a few parameters for building ours. If you want to explore all the capabilities of a DataBlock please check out the official documentation."
      ],
      "metadata": {
        "id": "Jz6X8-emFBwY"
      }
    },
    {
      "cell_type": "markdown",
      "source": [
        "The 'blocks' parameter asks for one or more types of blocks in order to know how to organize the data. I used ImageBlock for the pictures and CategoryBlock for their labels. 'get_items' represents the function used to get the items into the image block. 'splitter' is used to split the data into training and validation data; if you use a seed the random split will be the same all the time you'll run the cell. 'get_y' refers to a function used to get the labels for each picture (category block). We defined the 'get_label' function to do this exact thing for us."
      ],
      "metadata": {
        "id": "yerXWBK_FBwY"
      }
    },
    {
      "cell_type": "code",
      "source": [
        "def get_label(fname):\n",
        "    return fname.parent.name"
      ],
      "metadata": {
        "execution": {
          "iopub.status.busy": "2023-08-25T12:03:12.577153Z",
          "iopub.execute_input": "2023-08-25T12:03:12.578129Z",
          "iopub.status.idle": "2023-08-25T12:03:12.583551Z",
          "shell.execute_reply.started": "2023-08-25T12:03:12.578090Z",
          "shell.execute_reply": "2023-08-25T12:03:12.582283Z"
        },
        "trusted": true,
        "id": "8IETmol7FBwY"
      },
      "execution_count": 33,
      "outputs": []
    },
    {
      "cell_type": "code",
      "source": [
        "digits = DataBlock(blocks = (ImageBlock, CategoryBlock),\n",
        "                  get_items = get_image_files,\n",
        "                  splitter = RandomSplitter(seed = 42),\n",
        "                  get_y = get_label)\n",
        "\n",
        "# We use dataloaders function to load the training data\n",
        "dls = digits.dataloaders(TRAIN)"
      ],
      "metadata": {
        "execution": {
          "iopub.status.busy": "2023-08-25T12:03:12.585630Z",
          "iopub.execute_input": "2023-08-25T12:03:12.586594Z",
          "iopub.status.idle": "2023-08-25T12:03:16.600474Z",
          "shell.execute_reply.started": "2023-08-25T12:03:12.586533Z",
          "shell.execute_reply": "2023-08-25T12:03:16.599437Z"
        },
        "trusted": true,
        "id": "o_IfxZdkFBwY"
      },
      "execution_count": 34,
      "outputs": []
    },
    {
      "cell_type": "markdown",
      "source": [
        "# Model Training"
      ],
      "metadata": {
        "id": "QbsVk0ifFBwY"
      }
    },
    {
      "cell_type": "markdown",
      "source": [
        "Here we create our vision learner.\n",
        "FastAI includes some pretrained models for computer vision such as resnet34, densenet169, vgg16_bn, etc. Our first try is to fine tune one of these models on our training data."
      ],
      "metadata": {
        "id": "zzx6pNZhFBwY"
      }
    },
    {
      "cell_type": "code",
      "source": [
        "# The vision learner takes as parameters a dataloader, a model and a metric in order to measure the performance of the model.\n",
        "learn = vision_learner(dls, resnet34, metrics = error_rate)\n",
        "learn.fine_tune(2) # Here we specify the number of epochs for which we do the fine-tuning"
      ],
      "metadata": {
        "execution": {
          "iopub.status.busy": "2023-08-25T14:17:34.579581Z",
          "iopub.execute_input": "2023-08-25T14:17:34.580005Z",
          "iopub.status.idle": "2023-08-25T14:40:13.983788Z",
          "shell.execute_reply.started": "2023-08-25T14:17:34.579974Z",
          "shell.execute_reply": "2023-08-25T14:40:13.981910Z"
        },
        "trusted": true,
        "colab": {
          "base_uri": "https://localhost:8080/",
          "height": 305
        },
        "id": "vt6T0TLUFBwZ",
        "outputId": "9c375d53-5aec-4d89-8f48-407b01e81e5b"
      },
      "execution_count": 35,
      "outputs": [
        {
          "output_type": "stream",
          "name": "stderr",
          "text": [
            "/usr/local/lib/python3.10/dist-packages/torchvision/models/_utils.py:208: UserWarning: The parameter 'pretrained' is deprecated since 0.13 and may be removed in the future, please use 'weights' instead.\n",
            "  warnings.warn(\n",
            "/usr/local/lib/python3.10/dist-packages/torchvision/models/_utils.py:223: UserWarning: Arguments other than a weight enum or `None` for 'weights' are deprecated since 0.13 and may be removed in the future. The current behavior is equivalent to passing `weights=ResNet34_Weights.IMAGENET1K_V1`. You can also use `weights=ResNet34_Weights.DEFAULT` to get the most up-to-date weights.\n",
            "  warnings.warn(msg)\n",
            "Downloading: \"https://download.pytorch.org/models/resnet34-b627a593.pth\" to /root/.cache/torch/hub/checkpoints/resnet34-b627a593.pth\n",
            "100%|██████████| 83.3M/83.3M [00:00<00:00, 246MB/s]\n"
          ]
        },
        {
          "output_type": "display_data",
          "data": {
            "text/plain": [
              "<IPython.core.display.HTML object>"
            ],
            "text/html": [
              "\n",
              "<style>\n",
              "    /* Turns off some styling */\n",
              "    progress {\n",
              "        /* gets rid of default border in Firefox and Opera. */\n",
              "        border: none;\n",
              "        /* Needs to be in here for Safari polyfill so background images work as expected. */\n",
              "        background-size: auto;\n",
              "    }\n",
              "    progress:not([value]), progress:not([value])::-webkit-progress-bar {\n",
              "        background: repeating-linear-gradient(45deg, #7e7e7e, #7e7e7e 10px, #5c5c5c 10px, #5c5c5c 20px);\n",
              "    }\n",
              "    .progress-bar-interrupted, .progress-bar-interrupted::-webkit-progress-bar {\n",
              "        background: #F44336;\n",
              "    }\n",
              "</style>\n"
            ]
          },
          "metadata": {}
        },
        {
          "output_type": "display_data",
          "data": {
            "text/plain": [
              "<IPython.core.display.HTML object>"
            ],
            "text/html": [
              "<table border=\"1\" class=\"dataframe\">\n",
              "  <thead>\n",
              "    <tr style=\"text-align: left;\">\n",
              "      <th>epoch</th>\n",
              "      <th>train_loss</th>\n",
              "      <th>valid_loss</th>\n",
              "      <th>error_rate</th>\n",
              "      <th>time</th>\n",
              "    </tr>\n",
              "  </thead>\n",
              "  <tbody>\n",
              "    <tr>\n",
              "      <td>0</td>\n",
              "      <td>0.847442</td>\n",
              "      <td>0.607547</td>\n",
              "      <td>0.193095</td>\n",
              "      <td>01:01</td>\n",
              "    </tr>\n",
              "  </tbody>\n",
              "</table>"
            ]
          },
          "metadata": {}
        },
        {
          "output_type": "display_data",
          "data": {
            "text/plain": [
              "<IPython.core.display.HTML object>"
            ],
            "text/html": [
              "\n",
              "<style>\n",
              "    /* Turns off some styling */\n",
              "    progress {\n",
              "        /* gets rid of default border in Firefox and Opera. */\n",
              "        border: none;\n",
              "        /* Needs to be in here for Safari polyfill so background images work as expected. */\n",
              "        background-size: auto;\n",
              "    }\n",
              "    progress:not([value]), progress:not([value])::-webkit-progress-bar {\n",
              "        background: repeating-linear-gradient(45deg, #7e7e7e, #7e7e7e 10px, #5c5c5c 10px, #5c5c5c 20px);\n",
              "    }\n",
              "    .progress-bar-interrupted, .progress-bar-interrupted::-webkit-progress-bar {\n",
              "        background: #F44336;\n",
              "    }\n",
              "</style>\n"
            ]
          },
          "metadata": {}
        },
        {
          "output_type": "display_data",
          "data": {
            "text/plain": [
              "<IPython.core.display.HTML object>"
            ],
            "text/html": [
              "<table border=\"1\" class=\"dataframe\">\n",
              "  <thead>\n",
              "    <tr style=\"text-align: left;\">\n",
              "      <th>epoch</th>\n",
              "      <th>train_loss</th>\n",
              "      <th>valid_loss</th>\n",
              "      <th>error_rate</th>\n",
              "      <th>time</th>\n",
              "    </tr>\n",
              "  </thead>\n",
              "  <tbody>\n",
              "    <tr>\n",
              "      <td>0</td>\n",
              "      <td>0.144850</td>\n",
              "      <td>0.090916</td>\n",
              "      <td>0.029524</td>\n",
              "      <td>01:01</td>\n",
              "    </tr>\n",
              "    <tr>\n",
              "      <td>1</td>\n",
              "      <td>0.067161</td>\n",
              "      <td>0.055511</td>\n",
              "      <td>0.016190</td>\n",
              "      <td>00:55</td>\n",
              "    </tr>\n",
              "  </tbody>\n",
              "</table>"
            ]
          },
          "metadata": {}
        }
      ]
    },
    {
      "cell_type": "code",
      "source": [
        "# We can use 'one_batch' method to see the images from a batch and their labels\n",
        "x, y = dls.one_batch()"
      ],
      "metadata": {
        "execution": {
          "iopub.status.busy": "2023-08-25T14:40:13.989137Z",
          "iopub.execute_input": "2023-08-25T14:40:13.989614Z",
          "iopub.status.idle": "2023-08-25T14:40:14.132134Z",
          "shell.execute_reply.started": "2023-08-25T14:40:13.989567Z",
          "shell.execute_reply": "2023-08-25T14:40:14.131185Z"
        },
        "trusted": true,
        "id": "EAhNHh5eFBwZ"
      },
      "execution_count": 36,
      "outputs": []
    },
    {
      "cell_type": "markdown",
      "source": [
        "Here are the labels:"
      ],
      "metadata": {
        "id": "0HOFcoE9FBwZ"
      }
    },
    {
      "cell_type": "code",
      "source": [
        "y"
      ],
      "metadata": {
        "execution": {
          "iopub.status.busy": "2023-08-25T14:40:14.133464Z",
          "iopub.execute_input": "2023-08-25T14:40:14.134224Z",
          "iopub.status.idle": "2023-08-25T14:40:14.142219Z",
          "shell.execute_reply.started": "2023-08-25T14:40:14.134189Z",
          "shell.execute_reply": "2023-08-25T14:40:14.141353Z"
        },
        "trusted": true,
        "colab": {
          "base_uri": "https://localhost:8080/"
        },
        "id": "0y2EtKn7FBwZ",
        "outputId": "43828b0d-7b2b-4134-a651-962ae2439716"
      },
      "execution_count": 37,
      "outputs": [
        {
          "output_type": "execute_result",
          "data": {
            "text/plain": [
              "TensorCategory([9, 8, 7, 6, 2, 9, 6, 6, 6, 4, 6, 9, 7, 1, 7, 3, 0, 1, 5, 1, 1,\n",
              "                7, 8, 7, 7, 5, 9, 4, 2, 3, 9, 6, 1, 9, 0, 8, 4, 4, 9, 7, 9, 7,\n",
              "                4, 3, 5, 5, 6, 9, 9, 1, 5, 5, 3, 6, 0, 7, 8, 0, 8, 9, 9, 3, 0,\n",
              "                6], device='cuda:0')"
            ]
          },
          "metadata": {},
          "execution_count": 37
        }
      ]
    },
    {
      "cell_type": "markdown",
      "source": [
        "We use 'get_preds' to get predictions regarding the label of every picture. The method returns a list of probabilities for each one of them. These probabilities represent how sure the model is about what digit is in the image."
      ],
      "metadata": {
        "id": "8R6vaZv1FBwZ"
      }
    },
    {
      "cell_type": "code",
      "source": [
        "preds, _ = learn.get_preds(dl=[(x,y)])\n",
        "preds[0]"
      ],
      "metadata": {
        "execution": {
          "iopub.status.busy": "2023-08-25T14:40:14.144663Z",
          "iopub.execute_input": "2023-08-25T14:40:14.145461Z",
          "iopub.status.idle": "2023-08-25T14:40:14.356420Z",
          "shell.execute_reply.started": "2023-08-25T14:40:14.145427Z",
          "shell.execute_reply": "2023-08-25T14:40:14.354945Z"
        },
        "trusted": true,
        "colab": {
          "base_uri": "https://localhost:8080/",
          "height": 54
        },
        "id": "3vQFSgT9FBwZ",
        "outputId": "bc5279a5-d289-4363-9b56-49547e6fb13f"
      },
      "execution_count": 38,
      "outputs": [
        {
          "output_type": "display_data",
          "data": {
            "text/plain": [
              "<IPython.core.display.HTML object>"
            ],
            "text/html": [
              "\n",
              "<style>\n",
              "    /* Turns off some styling */\n",
              "    progress {\n",
              "        /* gets rid of default border in Firefox and Opera. */\n",
              "        border: none;\n",
              "        /* Needs to be in here for Safari polyfill so background images work as expected. */\n",
              "        background-size: auto;\n",
              "    }\n",
              "    progress:not([value]), progress:not([value])::-webkit-progress-bar {\n",
              "        background: repeating-linear-gradient(45deg, #7e7e7e, #7e7e7e 10px, #5c5c5c 10px, #5c5c5c 20px);\n",
              "    }\n",
              "    .progress-bar-interrupted, .progress-bar-interrupted::-webkit-progress-bar {\n",
              "        background: #F44336;\n",
              "    }\n",
              "</style>\n"
            ]
          },
          "metadata": {}
        },
        {
          "output_type": "display_data",
          "data": {
            "text/plain": [
              "<IPython.core.display.HTML object>"
            ],
            "text/html": []
          },
          "metadata": {}
        },
        {
          "output_type": "execute_result",
          "data": {
            "text/plain": [
              "tensor([3.8857e-05, 9.8225e-06, 1.7927e-05, 3.9876e-04, 5.9594e-04, 8.2671e-05,\n",
              "        2.2666e-06, 1.4376e-04, 2.4770e-04, 9.9846e-01])"
            ]
          },
          "metadata": {},
          "execution_count": 38
        }
      ]
    },
    {
      "cell_type": "markdown",
      "source": [
        "In our case, we get 10 probabilities, because there are 10 classes (an image can represent a digit from 0 to 9). All those probabilities sum up to 1."
      ],
      "metadata": {
        "id": "uCZLWkqAFBwa"
      }
    },
    {
      "cell_type": "code",
      "source": [
        "len(preds[0]), preds[0].sum()"
      ],
      "metadata": {
        "execution": {
          "iopub.status.busy": "2023-08-25T14:40:14.358935Z",
          "iopub.execute_input": "2023-08-25T14:40:14.359455Z",
          "iopub.status.idle": "2023-08-25T14:40:14.368298Z",
          "shell.execute_reply.started": "2023-08-25T14:40:14.359405Z",
          "shell.execute_reply": "2023-08-25T14:40:14.367193Z"
        },
        "trusted": true,
        "colab": {
          "base_uri": "https://localhost:8080/"
        },
        "id": "RW5H6LTRFBwa",
        "outputId": "52f15cbb-3ef1-490a-859a-64abf7849a83"
      },
      "execution_count": 39,
      "outputs": [
        {
          "output_type": "execute_result",
          "data": {
            "text/plain": [
              "(10, tensor(1.0000))"
            ]
          },
          "metadata": {},
          "execution_count": 39
        }
      ]
    },
    {
      "cell_type": "markdown",
      "source": [
        "We can plot a confusion matrix by using ClassificationInterpretation class provided by FastAI:"
      ],
      "metadata": {
        "id": "KS_tgmiwFBwa"
      }
    },
    {
      "cell_type": "code",
      "source": [
        "interp = ClassificationInterpretation.from_learner(learn)\n",
        "interp.plot_confusion_matrix(figsize = (8, 8), dpi = 60)"
      ],
      "metadata": {
        "execution": {
          "iopub.status.busy": "2023-08-25T14:40:14.370658Z",
          "iopub.execute_input": "2023-08-25T14:40:14.371090Z",
          "iopub.status.idle": "2023-08-25T14:41:11.529820Z",
          "shell.execute_reply.started": "2023-08-25T14:40:14.371054Z",
          "shell.execute_reply": "2023-08-25T14:41:11.528311Z"
        },
        "trusted": true,
        "colab": {
          "base_uri": "https://localhost:8080/",
          "height": 503
        },
        "id": "ZGn3VP5pFBwa",
        "outputId": "34c3a7ea-d447-4ce9-ff8c-1e90529bc9de"
      },
      "execution_count": 40,
      "outputs": [
        {
          "output_type": "display_data",
          "data": {
            "text/plain": [
              "<IPython.core.display.HTML object>"
            ],
            "text/html": [
              "\n",
              "<style>\n",
              "    /* Turns off some styling */\n",
              "    progress {\n",
              "        /* gets rid of default border in Firefox and Opera. */\n",
              "        border: none;\n",
              "        /* Needs to be in here for Safari polyfill so background images work as expected. */\n",
              "        background-size: auto;\n",
              "    }\n",
              "    progress:not([value]), progress:not([value])::-webkit-progress-bar {\n",
              "        background: repeating-linear-gradient(45deg, #7e7e7e, #7e7e7e 10px, #5c5c5c 10px, #5c5c5c 20px);\n",
              "    }\n",
              "    .progress-bar-interrupted, .progress-bar-interrupted::-webkit-progress-bar {\n",
              "        background: #F44336;\n",
              "    }\n",
              "</style>\n"
            ]
          },
          "metadata": {}
        },
        {
          "output_type": "display_data",
          "data": {
            "text/plain": [
              "<IPython.core.display.HTML object>"
            ],
            "text/html": []
          },
          "metadata": {}
        },
        {
          "output_type": "display_data",
          "data": {
            "text/plain": [
              "<IPython.core.display.HTML object>"
            ],
            "text/html": [
              "\n",
              "<style>\n",
              "    /* Turns off some styling */\n",
              "    progress {\n",
              "        /* gets rid of default border in Firefox and Opera. */\n",
              "        border: none;\n",
              "        /* Needs to be in here for Safari polyfill so background images work as expected. */\n",
              "        background-size: auto;\n",
              "    }\n",
              "    progress:not([value]), progress:not([value])::-webkit-progress-bar {\n",
              "        background: repeating-linear-gradient(45deg, #7e7e7e, #7e7e7e 10px, #5c5c5c 10px, #5c5c5c 20px);\n",
              "    }\n",
              "    .progress-bar-interrupted, .progress-bar-interrupted::-webkit-progress-bar {\n",
              "        background: #F44336;\n",
              "    }\n",
              "</style>\n"
            ]
          },
          "metadata": {}
        },
        {
          "output_type": "display_data",
          "data": {
            "text/plain": [
              "<IPython.core.display.HTML object>"
            ],
            "text/html": []
          },
          "metadata": {}
        },
        {
          "output_type": "display_data",
          "data": {
            "text/plain": [
              "<Figure size 480x480 with 1 Axes>"
            ],
            "image/png": "[encoded data removed]"
          },
          "metadata": {}
        }
      ]
    },
    {
      "cell_type": "markdown",
      "source": [
        "We can observe how many images were classified correctly by our model on the main diagonal of the matrix and how many were misclassified anywhere else."
      ],
      "metadata": {
        "id": "xI8QfurnFBwa"
      }
    },
    {
      "cell_type": "code",
      "source": [
        "# We can also see what digits were the most confused\n",
        "interp.most_confused(min_val = 5)"
      ],
      "metadata": {
        "execution": {
          "iopub.status.busy": "2023-08-25T14:41:11.531661Z",
          "iopub.execute_input": "2023-08-25T14:41:11.532100Z",
          "iopub.status.idle": "2023-08-25T14:41:39.727294Z",
          "shell.execute_reply.started": "2023-08-25T14:41:11.532063Z",
          "shell.execute_reply": "2023-08-25T14:41:39.725884Z"
        },
        "trusted": true,
        "colab": {
          "base_uri": "https://localhost:8080/",
          "height": 200
        },
        "id": "eSegp_hlFBwa",
        "outputId": "da54e2f5-3ee3-4181-a08d-09656ecc9582"
      },
      "execution_count": 41,
      "outputs": [
        {
          "output_type": "display_data",
          "data": {
            "text/plain": [
              "<IPython.core.display.HTML object>"
            ],
            "text/html": [
              "\n",
              "<style>\n",
              "    /* Turns off some styling */\n",
              "    progress {\n",
              "        /* gets rid of default border in Firefox and Opera. */\n",
              "        border: none;\n",
              "        /* Needs to be in here for Safari polyfill so background images work as expected. */\n",
              "        background-size: auto;\n",
              "    }\n",
              "    progress:not([value]), progress:not([value])::-webkit-progress-bar {\n",
              "        background: repeating-linear-gradient(45deg, #7e7e7e, #7e7e7e 10px, #5c5c5c 10px, #5c5c5c 20px);\n",
              "    }\n",
              "    .progress-bar-interrupted, .progress-bar-interrupted::-webkit-progress-bar {\n",
              "        background: #F44336;\n",
              "    }\n",
              "</style>\n"
            ]
          },
          "metadata": {}
        },
        {
          "output_type": "display_data",
          "data": {
            "text/plain": [
              "<IPython.core.display.HTML object>"
            ],
            "text/html": []
          },
          "metadata": {}
        },
        {
          "output_type": "execute_result",
          "data": {
            "text/plain": [
              "[('2', '7', 10),\n",
              " ('9', '4', 8),\n",
              " ('5', '8', 7),\n",
              " ('7', '9', 7),\n",
              " ('3', '2', 6),\n",
              " ('9', '7', 6),\n",
              " ('3', '5', 5),\n",
              " ('4', '7', 5),\n",
              " ('5', '6', 5),\n",
              " ('6', '8', 5)]"
            ]
          },
          "metadata": {},
          "execution_count": 41
        }
      ]
    },
    {
      "cell_type": "markdown",
      "source": [
        "Now, we would want to improve our model by selecting a different learning rate. FastAI offers us a tool to do just that: the learning rate finder. For more information about how this works check out the official documentation.\n",
        "\n",
        "You can find the research that inspired the creation of this method here: https://arxiv.org/pdf/1506.01186.pdf."
      ],
      "metadata": {
        "id": "CjruOohuFBwb"
      }
    },
    {
      "cell_type": "code",
      "source": [
        "learn = vision_learner(dls, resnet34, metrics = error_rate)\n",
        "lr_min, lr_steep = learn.lr_find(suggest_funcs = (minimum, steep))"
      ],
      "metadata": {
        "execution": {
          "iopub.status.busy": "2023-08-25T15:40:04.401042Z",
          "iopub.execute_input": "2023-08-25T15:40:04.401545Z",
          "iopub.status.idle": "2023-08-25T15:40:52.590341Z",
          "shell.execute_reply.started": "2023-08-25T15:40:04.401489Z",
          "shell.execute_reply": "2023-08-25T15:40:52.588899Z"
        },
        "trusted": true,
        "colab": {
          "base_uri": "https://localhost:8080/",
          "height": 454
        },
        "id": "kcwK9H6UFBwb",
        "outputId": "2b67c7b6-7752-4c93-f116-a33ea97486f0"
      },
      "execution_count": 42,
      "outputs": [
        {
          "output_type": "display_data",
          "data": {
            "text/plain": [
              "<IPython.core.display.HTML object>"
            ],
            "text/html": [
              "\n",
              "<style>\n",
              "    /* Turns off some styling */\n",
              "    progress {\n",
              "        /* gets rid of default border in Firefox and Opera. */\n",
              "        border: none;\n",
              "        /* Needs to be in here for Safari polyfill so background images work as expected. */\n",
              "        background-size: auto;\n",
              "    }\n",
              "    progress:not([value]), progress:not([value])::-webkit-progress-bar {\n",
              "        background: repeating-linear-gradient(45deg, #7e7e7e, #7e7e7e 10px, #5c5c5c 10px, #5c5c5c 20px);\n",
              "    }\n",
              "    .progress-bar-interrupted, .progress-bar-interrupted::-webkit-progress-bar {\n",
              "        background: #F44336;\n",
              "    }\n",
              "</style>\n"
            ]
          },
          "metadata": {}
        },
        {
          "output_type": "display_data",
          "data": {
            "text/plain": [
              "<IPython.core.display.HTML object>"
            ],
            "text/html": []
          },
          "metadata": {}
        },
        {
          "output_type": "display_data",
          "data": {
            "text/plain": [
              "<Figure size 640x480 with 1 Axes>"
            ],
            "image/png": "[encoded data removed]"
          },
          "metadata": {}
        }
      ]
    },
    {
      "cell_type": "code",
      "source": [
        "lr_min, lr_steep"
      ],
      "metadata": {
        "execution": {
          "iopub.status.busy": "2023-08-25T14:42:44.077920Z",
          "iopub.execute_input": "2023-08-25T14:42:44.078403Z",
          "iopub.status.idle": "2023-08-25T14:42:44.086535Z",
          "shell.execute_reply.started": "2023-08-25T14:42:44.078368Z",
          "shell.execute_reply": "2023-08-25T14:42:44.085243Z"
        },
        "trusted": true,
        "colab": {
          "base_uri": "https://localhost:8080/"
        },
        "id": "sQEVM0SoFBwn",
        "outputId": "f4a17936-78aa-4885-8ed0-0d85094293ab"
      },
      "execution_count": 43,
      "outputs": [
        {
          "output_type": "execute_result",
          "data": {
            "text/plain": [
              "(0.02089296132326126, 0.015848932787775993)"
            ]
          },
          "metadata": {},
          "execution_count": 43
        }
      ]
    },
    {
      "cell_type": "markdown",
      "source": [
        "We want to respect one of the following criteria when we choose a learning rate:\n",
        "* to be one order of magnitude smaller than the value where the minimum value of the loss was achieved (this means 10 times smaller than the value where we found the minimum)\n",
        "* to be the last point where the loss was clearly decreasing"
      ],
      "metadata": {
        "id": "pFz1lDDtFBwn"
      }
    },
    {
      "cell_type": "code",
      "source": [
        "learn = vision_learner(dls, resnet34, metrics = error_rate)\n",
        "learn.fine_tune(2, base_lr = 3e-2)"
      ],
      "metadata": {
        "execution": {
          "iopub.status.busy": "2023-08-25T15:43:27.244378Z",
          "iopub.execute_input": "2023-08-25T15:43:27.245035Z",
          "iopub.status.idle": "2023-08-25T16:15:09.789253Z",
          "shell.execute_reply.started": "2023-08-25T15:43:27.244981Z",
          "shell.execute_reply": "2023-08-25T16:15:09.788037Z"
        },
        "trusted": true,
        "colab": {
          "base_uri": "https://localhost:8080/",
          "height": 175
        },
        "id": "Tu2R3iYMFBwn",
        "outputId": "0df785a4-a3b6-4e56-a3d1-3b22b65af898"
      },
      "execution_count": 44,
      "outputs": [
        {
          "output_type": "display_data",
          "data": {
            "text/plain": [
              "<IPython.core.display.HTML object>"
            ],
            "text/html": [
              "\n",
              "<style>\n",
              "    /* Turns off some styling */\n",
              "    progress {\n",
              "        /* gets rid of default border in Firefox and Opera. */\n",
              "        border: none;\n",
              "        /* Needs to be in here for Safari polyfill so background images work as expected. */\n",
              "        background-size: auto;\n",
              "    }\n",
              "    progress:not([value]), progress:not([value])::-webkit-progress-bar {\n",
              "        background: repeating-linear-gradient(45deg, #7e7e7e, #7e7e7e 10px, #5c5c5c 10px, #5c5c5c 20px);\n",
              "    }\n",
              "    .progress-bar-interrupted, .progress-bar-interrupted::-webkit-progress-bar {\n",
              "        background: #F44336;\n",
              "    }\n",
              "</style>\n"
            ]
          },
          "metadata": {}
        },
        {
          "output_type": "display_data",
          "data": {
            "text/plain": [
              "<IPython.core.display.HTML object>"
            ],
            "text/html": [
              "<table border=\"1\" class=\"dataframe\">\n",
              "  <thead>\n",
              "    <tr style=\"text-align: left;\">\n",
              "      <th>epoch</th>\n",
              "      <th>train_loss</th>\n",
              "      <th>valid_loss</th>\n",
              "      <th>error_rate</th>\n",
              "      <th>time</th>\n",
              "    </tr>\n",
              "  </thead>\n",
              "  <tbody>\n",
              "    <tr>\n",
              "      <td>0</td>\n",
              "      <td>0.352900</td>\n",
              "      <td>0.158470</td>\n",
              "      <td>0.043810</td>\n",
              "      <td>00:51</td>\n",
              "    </tr>\n",
              "  </tbody>\n",
              "</table>"
            ]
          },
          "metadata": {}
        },
        {
          "output_type": "display_data",
          "data": {
            "text/plain": [
              "<IPython.core.display.HTML object>"
            ],
            "text/html": [
              "\n",
              "<style>\n",
              "    /* Turns off some styling */\n",
              "    progress {\n",
              "        /* gets rid of default border in Firefox and Opera. */\n",
              "        border: none;\n",
              "        /* Needs to be in here for Safari polyfill so background images work as expected. */\n",
              "        background-size: auto;\n",
              "    }\n",
              "    progress:not([value]), progress:not([value])::-webkit-progress-bar {\n",
              "        background: repeating-linear-gradient(45deg, #7e7e7e, #7e7e7e 10px, #5c5c5c 10px, #5c5c5c 20px);\n",
              "    }\n",
              "    .progress-bar-interrupted, .progress-bar-interrupted::-webkit-progress-bar {\n",
              "        background: #F44336;\n",
              "    }\n",
              "</style>\n"
            ]
          },
          "metadata": {}
        },
        {
          "output_type": "display_data",
          "data": {
            "text/plain": [
              "<IPython.core.display.HTML object>"
            ],
            "text/html": [
              "<table border=\"1\" class=\"dataframe\">\n",
              "  <thead>\n",
              "    <tr style=\"text-align: left;\">\n",
              "      <th>epoch</th>\n",
              "      <th>train_loss</th>\n",
              "      <th>valid_loss</th>\n",
              "      <th>error_rate</th>\n",
              "      <th>time</th>\n",
              "    </tr>\n",
              "  </thead>\n",
              "  <tbody>\n",
              "    <tr>\n",
              "      <td>0</td>\n",
              "      <td>0.132685</td>\n",
              "      <td>0.094719</td>\n",
              "      <td>0.026548</td>\n",
              "      <td>00:55</td>\n",
              "    </tr>\n",
              "    <tr>\n",
              "      <td>1</td>\n",
              "      <td>0.049719</td>\n",
              "      <td>0.027368</td>\n",
              "      <td>0.009286</td>\n",
              "      <td>00:55</td>\n",
              "    </tr>\n",
              "  </tbody>\n",
              "</table>"
            ]
          },
          "metadata": {}
        }
      ]
    },
    {
      "cell_type": "markdown",
      "source": [
        "# Making Predictions"
      ],
      "metadata": {
        "id": "0fg-YEZhFBwo"
      }
    },
    {
      "cell_type": "markdown",
      "source": [
        "Now we want to make predictions on our test data. The 'glob' function is used to match all the paths that contain files that end in '.jpg'; it returns an object generator, so in order to work with the paths we created a list.\n",
        "\n",
        "In order to make predictions on new data we have to create the test dataloader. That's what the second line of code does. In order to make the predictions on this test dataloader we have to specify it when we call 'get_preds' (we did this by writing \"dl = test_dl\"). As we explained before, 'get_preds' returns a list of probabilities for each image. That's why we use 'argmax' to get the index where the biggest probability can be found. The indexes range from 0 to 9 and match the names of our classes perfectly."
      ],
      "metadata": {
        "id": "4wpjrqzKFBwo"
      }
    },
    {
      "cell_type": "code",
      "source": [
        "test_images = list(TEST.glob(\"*.jpg\"))\n",
        "test_dl = learn.dls.test_dl(test_images)\n",
        "\n",
        "predictions, _ = learn.get_preds(dl = test_dl)\n",
        "predictions = np.argmax(predictions, axis = 1)"
      ],
      "metadata": {
        "execution": {
          "iopub.status.busy": "2023-08-25T16:40:20.832743Z",
          "iopub.execute_input": "2023-08-25T16:40:20.833481Z",
          "iopub.status.idle": "2023-08-25T16:42:09.976357Z",
          "shell.execute_reply.started": "2023-08-25T16:40:20.833439Z",
          "shell.execute_reply": "2023-08-25T16:42:09.974861Z"
        },
        "trusted": true,
        "colab": {
          "base_uri": "https://localhost:8080/",
          "height": 17
        },
        "id": "y_zY_csxFBwo",
        "outputId": "2c4a2d4f-1592-44ac-f29c-8a09334256a3"
      },
      "execution_count": 45,
      "outputs": [
        {
          "output_type": "display_data",
          "data": {
            "text/plain": [
              "<IPython.core.display.HTML object>"
            ],
            "text/html": [
              "\n",
              "<style>\n",
              "    /* Turns off some styling */\n",
              "    progress {\n",
              "        /* gets rid of default border in Firefox and Opera. */\n",
              "        border: none;\n",
              "        /* Needs to be in here for Safari polyfill so background images work as expected. */\n",
              "        background-size: auto;\n",
              "    }\n",
              "    progress:not([value]), progress:not([value])::-webkit-progress-bar {\n",
              "        background: repeating-linear-gradient(45deg, #7e7e7e, #7e7e7e 10px, #5c5c5c 10px, #5c5c5c 20px);\n",
              "    }\n",
              "    .progress-bar-interrupted, .progress-bar-interrupted::-webkit-progress-bar {\n",
              "        background: #F44336;\n",
              "    }\n",
              "</style>\n"
            ]
          },
          "metadata": {}
        },
        {
          "output_type": "display_data",
          "data": {
            "text/plain": [
              "<IPython.core.display.HTML object>"
            ],
            "text/html": []
          },
          "metadata": {}
        }
      ]
    },
    {
      "cell_type": "markdown",
      "source": [
        "The 'stem' method extracts the name of a file without its extension. We used it to get the ids of all the images and then match them with the labels computed by the model."
      ],
      "metadata": {
        "id": "VQyvAgulFBwo"
      }
    },
    {
      "cell_type": "code",
      "source": [
        "ids = [int(path.stem) + 1 for path in test_images]\n",
        "submission_data = pd.DataFrame({\"ImageId\": ids, \"Label\": predictions})"
      ],
      "metadata": {
        "execution": {
          "iopub.status.busy": "2023-08-25T16:43:14.352485Z",
          "iopub.execute_input": "2023-08-25T16:43:14.353274Z",
          "iopub.status.idle": "2023-08-25T16:43:14.441966Z",
          "shell.execute_reply.started": "2023-08-25T16:43:14.353217Z",
          "shell.execute_reply": "2023-08-25T16:43:14.440682Z"
        },
        "trusted": true,
        "id": "k-ikLDFDFBwo"
      },
      "execution_count": 46,
      "outputs": []
    },
    {
      "cell_type": "markdown",
      "source": [
        "Finally, we create a csv file with our predictions using 'to_csv' method:"
      ],
      "metadata": {
        "id": "LjiobrDCFBwo"
      }
    },
    {
      "cell_type": "code",
      "source": [
        "submission_data.to_csv('submission.csv', index = False)"
      ],
      "metadata": {
        "execution": {
          "iopub.status.busy": "2023-08-25T16:43:16.847759Z",
          "iopub.execute_input": "2023-08-25T16:43:16.849039Z",
          "iopub.status.idle": "2023-08-25T16:43:16.927450Z",
          "shell.execute_reply.started": "2023-08-25T16:43:16.848993Z",
          "shell.execute_reply": "2023-08-25T16:43:16.926198Z"
        },
        "trusted": true,
        "id": "Relr5zVIFBwo"
      },
      "execution_count": 47,
      "outputs": []
    }
  ]
}